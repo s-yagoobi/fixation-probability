{
 "cells": [
  {
   "cell_type": "markdown",
   "metadata": {},
   "source": [
    "# Numerical Calculation and plotting of the Fixation Probability for meta-star "
   ]
  },
  {
   "cell_type": "code",
   "execution_count": 1,
   "metadata": {},
   "outputs": [],
   "source": [
    "import numpy as np\n",
    "import matplotlib.pyplot as plt\n",
    "from matplotlib.ticker import MultipleLocator"
   ]
  },
  {
   "cell_type": "code",
   "execution_count": 12,
   "metadata": {},
   "outputs": [],
   "source": [
    "local_size = 5   # population size in each patch\n",
    "number_of_patches = 4 # number of patches\n",
    "migration_probability = [0.000001,0.01,0.1,0.5,1] \n",
    "Fitness = np.linspace(0.1,2.,20)\n",
    "Fitness1 = np.linspace(0.1,2,100)"
   ]
  },
  {
   "cell_type": "markdown",
   "metadata": {},
   "source": [
    "**Define the adjacency matrix of star graph**"
   ]
  },
  {
   "cell_type": "code",
   "execution_count": null,
   "metadata": {},
   "outputs": [],
   "source": [
    "\n",
    "def star(number_of_patches):\n",
    "    \"\"\"\n",
    "    Return the adjacency matrix of a star graph with a given number of patches.\n",
    "\n",
    "    Parameters\n",
    "    ----------\n",
    "    number_of_patches : int\n",
    "        The number of patches in the star graph.\n",
    "\n",
    "    Returns\n",
    "    -------\n",
    "    numpy.ndarray\n",
    "        The adjacency matrix of the star graph.\n",
    "    \"\"\"\n",
    "    S = np.zeros([number_of_patches, number_of_patches])\n",
    "    S[:, number_of_patches - 1] = 1\n",
    "    S[number_of_patches - 1, :] = 1\n",
    "    S[number_of_patches - 1, number_of_patches - 1] = 0\n",
    "    return S\n"
   ]
  },
  {
   "cell_type": "code",
   "execution_count": 14,
   "metadata": {},
   "outputs": [],
   "source": [
    "# Compute the adjacency matrix of a star graph with the given number of patches\n",
    "adjacency_matrix = star(number_of_patches)\n",
    "\n",
    "# Calculate the in-degree of each vertex in the graph\n",
    "degree_vertices = np.sum(adjacency_matrix, axis=1)\n",
    "\n",
    "# Calculate the number of possible states that an evolutionary trajectory could go through\n",
    "# starting from one mutant to extinction or fixation\n",
    "number_of_states = (local_size + 1) ** patch_number"
   ]
  },
  {
   "cell_type": "markdown",
   "metadata": {},
   "source": [
    "**A function that take the state and returns the configuration of the meta-population**"
   ]
  },
  {
   "cell_type": "code",
   "execution_count": null,
   "metadata": {},
   "outputs": [],
   "source": [
    "def convert_to_base(decimal_number, base, number_of_patches):\n",
    "    \"\"\"\n",
    "    Convert a decimal number to a number with arbitrary base.\n",
    "\n",
    "    Parameters\n",
    "    ----------\n",
    "    decimal_number : int\n",
    "        The decimal number to be converted.\n",
    "\n",
    "    base : int\n",
    "        The base to which the decimal number will be converted.\n",
    "\n",
    "    number_of_patches : int\n",
    "        Number of patches     \n",
    "\n",
    "    Returns\n",
    "    -------\n",
    "    list\n",
    "        A list representing the converted number in the specified base.\n",
    "    \"\"\"\n",
    "    remainder_stack = []\n",
    "    while decimal_number > 0:\n",
    "        remainder = decimal_number % base\n",
    "        remainder_stack.append(remainder)\n",
    "        decimal_number = decimal_number // base\n",
    "    # Pad the remainder stack with zeros to match the number of patches\n",
    "    remainder_stack += [0] * number_of_patches\n",
    "    # Trim the remainder stack to the desired length\n",
    "    remainder_stack = remainder_stack[:number_of_patches]\n",
    "    return remainder_stack\n",
    "\n"
   ]
  },
  {
   "cell_type": "markdown",
   "metadata": {},
   "source": [
    "**The transition matrix**\n",
    "\n",
    "Each state is represented by a list $[i_1, i_2, i_3, ...]$ where $i_n$ is the number of mutants on the patch $n$. $i_n$ can vary between 0 and local_size (here shown as $M$). The number of mutants at the whole graph can only increase or decrease by one at each transition and the transition stops until all the network is either occupied by mutants (fixation state) or by wild-types (extinction step). An increase in the number of mutants occures when a mutant is chosen to give birth and replaces a wild-type either on the same patch or on an adjacent patch. \n",
    "As an example the number of mutants in patch 1, i.e. $i_1$ transitions to $i_1 + 1$ with the following probability:\n",
    "\n",
    "$ T[(i_1, i_2,...), (i_1+1, i_2,...)] = \\sum_n A[n, 1]\\dfrac{ri_n}{ F_t} \\dfrac{M - i_1}{M} $\n",
    "where $A$ is the adjacent matrix of the network, $r$ is the relative fitness of the mutant, $M$ is the local population size, and $F_t$ is the total fitness of the population."
   ]
  },
  {
   "cell_type": "code",
   "execution_count": null,
   "metadata": {},
   "outputs": [],
   "source": [
    "\n",
    "def transition_matrix(adjacency_matrix, fitness, number_of_states, number_of_patches, local_size):\n",
    "    \"\"\"\n",
    "    Compute the transition matrix of an evolutionary network-structured metapopulation\n",
    "    when local population size is identical in all the patches.\n",
    "\n",
    "    Parameters\n",
    "    ----------\n",
    "    adjacency_matrix : numpy.ndarray\n",
    "        The adjacency matrix representing connectivity between patches.\n",
    "\n",
    "    fitness : float\n",
    "        The fitness value.\n",
    "\n",
    "    number_of_states : int\n",
    "        The number of possible states in the evolutionary trajectory.\n",
    "\n",
    "    number_of_patches : int\n",
    "        The number of patches in the metapopulation.\n",
    "\n",
    "    local_size : int\n",
    "        The local population size.\n",
    "\n",
    "    Returns\n",
    "    -------\n",
    "    numpy.ndarray\n",
    "        The transition matrix of the metapopulation.\n",
    "    \"\"\"\n",
    "    T = np.zeros([number_of_states, number_of_states])\n",
    "    for i in range(number_of_states):\n",
    "        # Convert i to the base of local_size to get the configuration on the graph as a list\n",
    "        i_config = convert_to_base(i, local_size + 1, number_of_patches)\n",
    "        # Calculate the total fitness\n",
    "        total_fitness = fitness * sum(i_config) + number_of_patches * local_size - sum(i_config)\n",
    "        \n",
    "        for n in range(number_of_patches):\n",
    "            # The probability that the number of mutants in patch n increases by one\n",
    "            if i + (local_size + 1) ** n < number_of_states: \n",
    "                for k in range(number_of_patches):\n",
    "                    T[i, i + (local_size + 1) ** n] += fitness * adjacency_matrix[k, n] * i_config[k]\n",
    "                T[i, i + (local_size + 1) ** n] *= (local_size - i_config[n]) / (local_size * total_fitness)    \n",
    "\n",
    "            # The probability that the number of mutants in patch n decreases by one    \n",
    "            if i - (local_size + 1) ** n >= 0:\n",
    "                for k in range(number_of_patches):\n",
    "                     T[i, i - (local_size + 1) ** n] += adjacency_matrix[k, n] * (local_size - i_config[k])\n",
    "                T[i, i - (local_size + 1) ** n] *= i_config[n] / (local_size * total_fitness)      \n",
    "                             \n",
    "    # Calculate the diagonal elements of the transition matrix\n",
    "    for i in range(number_of_states):\n",
    "        T[i, i] = 1 - T[i].sum()\n",
    "        \n",
    "    return T \n"
   ]
  },
  {
   "cell_type": "markdown",
   "metadata": {},
   "source": [
    "#### calculating the fixation probability\n",
    "In order to calculate the mean fixation probability strating from one mutant on the network, we make use of the following formula:\n",
    "\n",
    "$\\phi= (Q-I)^{-1}R$. \n",
    "\n",
    "In this relation $\\phi$ is the absorption probability from any state to one of the absorbing points (either extinction or fixation).\n",
    "$Q$ is the transition matrix between transient states. $I$ is the identity matrix and $R$ represent the probability of transition from any transient states to absorbing states. \n",
    "\n",
    "In order to compute the fixation probability from this formula we sum over the entries of the matrix which determine the probability going from one mutant to the fixation state."
   ]
  },
  {
   "cell_type": "code",
   "execution_count": 17,
   "metadata": {},
   "outputs": [],
   "source": [
    "def fixation_probability(migration_probability, fitness, number_of_states, number_of_patches, local_size):\n",
    "    \"\"\"\n",
    "    Calculate the fixation probability of mutants in a metapopulation.\n",
    "\n",
    "    Parameters\n",
    "    ----------\n",
    "    migration_probability : float\n",
    "        The probability of migration between patches.\n",
    "\n",
    "    fitness : float\n",
    "        The fitness value.\n",
    "\n",
    "    number_of_states : int\n",
    "        The number of possible states in the evolutionary trajectory.\n",
    "\n",
    "    number_of_patches : int\n",
    "        The number of patches in the metapopulation.\n",
    "\n",
    "    local_size : int\n",
    "        The local population size.\n",
    "\n",
    "    Returns\n",
    "    -------\n",
    "    float\n",
    "        The fixation probability of mutants.\n",
    "    \"\"\"\n",
    "    # Compute the transition matrix\n",
    "    TM = transition_matrix(migration_probability, fitness, number_of_states, number_of_patches, local_size)\n",
    "    \n",
    "    # Extract submatrices\n",
    "    Q = TM[1:number_of_states-1, 1:number_of_states-1]\n",
    "    a = TM[1:number_of_states-1, 0]\n",
    "    b = TM[1:number_of_states-1, number_of_states-1]\n",
    "    \n",
    "    # Concatenate matrices\n",
    "    R = np.concatenate((a, b), axis=0)\n",
    "    R = np.transpose(R.reshape((2, number_of_states-2)))\n",
    "    \n",
    "    # Identity matrix\n",
    "    Identity = np.identity(number_of_states-2)\n",
    "\n",
    "    # Calculate the inverse of (Identity - Q)\n",
    "    inverse = np.linalg.inv(Identity - Q)\n",
    "    \n",
    "    # Calculate Probability = inverse * R\n",
    "    Probability = np.dot(inverse, R)\n",
    "    \n",
    "    # Calculate fixation probability\n",
    "    fix_prob = 0\n",
    "    for n in range(number_of_patches):\n",
    "        fix_prob += Probability[(local_size+1)**n - 1, 1]\n",
    "    \n",
    "    return fix_prob"
   ]
  },
  {
   "cell_type": "markdown",
   "metadata": {},
   "source": [
    "**Fixation probability of a well-mixed population**"
   ]
  },
  {
   "cell_type": "code",
   "execution_count": 18,
   "metadata": {},
   "outputs": [],
   "source": [
    "def fix_prob_well_mixed(fitness, pop_size):\n",
    "    \"\"\"\n",
    "    fixation probability of a well-mixed population \n",
    "    with size pop_size \n",
    "    \"\"\"\n",
    "    return (1-1/fitness)/(1-(1/fitness)**pop_size)    "
   ]
  },
  {
   "cell_type": "markdown",
   "metadata": {},
   "source": [
    "**Fixation probability of a meta-star in the low migration regime**"
   ]
  },
  {
   "cell_type": "code",
   "execution_count": 19,
   "metadata": {},
   "outputs": [],
   "source": [
    "def fix_prob_star_patch(fitness):\n",
    "    \"\"\"\n",
    "    Eq(17): fixation probability of a star-patch structure \n",
    "    when migration is very low\n",
    "    \"\"\"\n",
    "    t0=fix_prob_well_mixed(1/fitness,local_size)/(fix_prob_well_mixed(1/fitness,local_size)+fitness*(patch_number-1)*fix_prob_well_mixed(fitness, local_size))\n",
    "    t00=fitness*fix_prob_well_mixed(fitness,local_size)/(fitness*fix_prob_well_mixed(fitness,local_size)+(patch_number-1)*fix_prob_well_mixed(1/fitness, local_size))\n",
    "    S=0\n",
    "    for j in range(1,patch_number-1):\n",
    "        S+=(t0/t00)**j\n",
    "    phi00=t00/(1+(1-t00)*S)\n",
    "    phi0=(1-t0)*phi00/t00\n",
    "    return (phi00+(patch_number-1)*phi0)*fix_prob_well_mixed(fitness, local_size)/patch_number"
   ]
  },
  {
   "cell_type": "markdown",
   "metadata": {},
   "source": [
    "Fixation probability of a meta-star when migration probability is 1: pop_size_1 is the population size of the center and pop_size_2 is the total population size in the leaves."
   ]
  },
  {
   "cell_type": "code",
   "execution_count": 20,
   "metadata": {},
   "outputs": [],
   "source": [
    "def h2(fitness,pop_size_1,pop_size_2):\n",
    "    return (pop_size_1/pop_size_2+1/fitness)/(pop_size_1/pop_size_2+fitness)\n",
    "\n",
    "def h1(fitness,pop_size_1,pop_size_2):\n",
    "    return (pop_size_2/pop_size_1+1/fitness)/(pop_size_2/pop_size_1+fitness)\n",
    "\n",
    "def phi1(fitness,pop_size_1,pop_size_2):\n",
    "    return (h1(fitness, pop_size_1, pop_size_2)-1)/((h1(fitness, pop_size_1, pop_size_2))**pop_size_1*(h2(fitness, pop_size_1, pop_size_2))**pop_size_2-1)\n",
    "\n",
    "\n",
    "def phi2(fitness,pop_size_1,pop_size_2):\n",
    "    return (h2(fitness, pop_size_1, pop_size_2)-1)/((h1(fitness, pop_size_1, pop_size_2))**pop_size_1*(h2(fitness, pop_size_1, pop_size_2))**pop_size_2-1)\n",
    "\n",
    "def phi (fitness,pop_size_1, pop_size_2):\n",
    "    return (pop_size_1* phi1(fitness,pop_size_1,pop_size_2)+pop_size_2* phi2(fitness,pop_size_1,pop_size_2))/(pop_size_1+pop_size_2)"
   ]
  },
  {
   "cell_type": "markdown",
   "metadata": {},
   "source": [
    "Import numerical data for different migration probabilities."
   ]
  },
  {
   "cell_type": "code",
   "execution_count": 21,
   "metadata": {},
   "outputs": [],
   "source": [
    "numerical_fix_prob_06=np.loadtxt('star-N_5-M_4-mig-1e-06.txt')\n",
    "numerical_fix_prob_l_001=np.loadtxt('star-N_5-M_4-mig-0.01.txt')\n",
    "numerical_fix_prob_l_01=np.loadtxt('star-N_5-M_4-mig-0.1.txt')\n",
    "numerical_fix_prob_l_05=np.loadtxt('star-N_5-M_4-mig-0.5.txt')\n",
    "numerical_fix_prob_l_1=np.loadtxt('star-N_5-M_4-mig-1.txt')"
   ]
  },
  {
   "cell_type": "markdown",
   "metadata": {},
   "source": [
    "Plotting"
   ]
  },
  {
   "cell_type": "code",
   "execution_count": 22,
   "metadata": {},
   "outputs": [
    {
     "data": {
      "image/png": "[encoded data removed]",
      "text/plain": [
       "<Figure size 720x504 with 1 Axes>"
      ]
     },
     "metadata": {
      "needs_background": "light"
     },
     "output_type": "display_data"
    }
   ],
   "source": [
    "fig, ax = plt.subplots(figsize=(10,7))\n",
    "ax.xaxis.set_major_locator(MultipleLocator(0.5))\n",
    "ax.xaxis.set_minor_locator(MultipleLocator(0.25))\n",
    "ax.ticklabel_format(axis='y',style='sci',scilimits=(0,0))\n",
    "#ylim=np.array(plt.gca().get_ylim())\n",
    "ylim=[-0.01,0.06]\n",
    "plt.xlim(left=0)\n",
    "\n",
    "plt.xlim(right=2)\n",
    "plt.ylim(top=ylim[1])\n",
    "plt.ylim(bottom=ylim[0])\n",
    "plt.fill_between(np.linspace(0,1,20),y1=0,y2=ylim[1], color='whitesmoke')\n",
    "plt.fill_between(np.linspace(1.,2,20),y1=ylim[0],y2=0, color='whitesmoke')\n",
    "ax.axhline(y=0, color='k')\n",
    "\n",
    "ax.plot(Fitness1,fix_prob_star_patch(Fitness1)-fix_prob_well_mixed(Fitness1,local_size*patch_number), color='g',label='low-migration')\n",
    "ax.plot(Fitness, numerical_fix_prob_06[:,1]-fix_prob_well_mixed(Fitness,local_size*patch_number) ,'P',color='tab:orange',markerfacecolor='none', label='$\\lambda= 10^{-6}$')\n",
    "ax.plot(Fitness, numerical_fix_prob_l_001[:,1]-fix_prob_well_mixed(Fitness,local_size*patch_number) ,'s',color='b',markerfacecolor='none', label='$\\lambda= 0.01$')\n",
    "ax.plot(Fitness,numerical_fix_prob_l_01[:,1]-fix_prob_well_mixed(Fitness,local_size*patch_number), '*',color='m',markerfacecolor='none', label='$\\lambda=0.1$')\n",
    "ax.plot(Fitness, numerical_fix_prob_l_05[:,1]-fix_prob_well_mixed(Fitness,local_size*patch_number) ,'v',color='c',markerfacecolor='none', label='$\\lambda= 0.5$')\n",
    "ax.plot(Fitness, numerical_fix_prob_l_1[:,1]-fix_prob_well_mixed(Fitness,local_size*patch_number) ,'o',color='darkred',markerfacecolor='none', label='$\\lambda= 1$')\n",
    "ax.plot(Fitness1, phi(Fitness1,local_size,local_size*(patch_number-1))-fix_prob_well_mixed(Fitness1,local_size*patch_number), color='r', label='$\\lambda= 1$')\n",
    "ax.tick_params(labelsize=12, direction='out',top=True, right=True)\n",
    "ax.set_xlabel(r'fitness ($\\bf{r}$) ',fontsize=14)\n",
    "ax.set_ylabel(r\"Difference in fixation probabilities, $\\phi_{\\bigstar}- \\phi_{\\rm wm} $\",fontsize=14)\n",
    "\n",
    "plt.legend(fontsize=14)\n",
    "plt.show()"
   ]
  },
  {
   "cell_type": "code",
   "execution_count": null,
   "metadata": {},
   "outputs": [],
   "source": []
  }
 ],
 "metadata": {
  "kernelspec": {
   "display_name": "Python 3",
   "language": "python",
   "name": "python3"
  },
  "language_info": {
   "codemirror_mode": {
    "name": "ipython",
    "version": 3
   },
   "file_extension": ".py",
   "mimetype": "text/x-python",
   "name": "python",
   "nbconvert_exporter": "python",
   "pygments_lexer": "ipython3",
   "version": "3.7.6"
  }
 },
 "nbformat": 4,
 "nbformat_minor": 4
}
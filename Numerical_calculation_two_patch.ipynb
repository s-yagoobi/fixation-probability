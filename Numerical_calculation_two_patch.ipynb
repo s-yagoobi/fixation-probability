{
 "cells": [
  {
   "cell_type": "markdown",
   "metadata": {},
   "source": [
    "# Numerical Calculation and plotting the fixation probability of two-patch meta-population"
   ]
  },
  {
   "cell_type": "code",
   "execution_count": 28,
   "metadata": {},
   "outputs": [],
   "source": [
    "import numpy as np\n",
    "import itertools\n",
    "import matplotlib.pyplot as plt\n",
    "from matplotlib.ticker import MultipleLocator"
   ]
  },
  {
   "cell_type": "code",
   "execution_count": 29,
   "metadata": {},
   "outputs": [],
   "source": [
    "local_size_patch_one=7\n",
    "local_size_patch_two=3\n",
    "Fitness=np.linspace(0.1,2.,20)\n",
    "Fitness1=np.linspace(0.1,2,100)\n",
    "migration_probability=[0.000001,0.01,0.1,0.5,1]"
   ]
  },
  {
   "cell_type": "code",
   "execution_count": 30,
   "metadata": {},
   "outputs": [],
   "source": [
    "number_states=(local_size_patch_two+1)*(local_size_patch_one+1) #number of states\n",
    "patch_one=np.arange(local_size_patch_one+1).tolist()\n",
    "patch_two=np.arange(local_size_patch_two+1).tolist()\n",
    "patch_combination=list(itertools.product(patch_one,patch_two))"
   ]
  },
  {
   "cell_type": "markdown",
   "metadata": {},
   "source": [
    "**The transition matrix**"
   ]
  },
  {
   "cell_type": "code",
   "execution_count": 31,
   "metadata": {},
   "outputs": [],
   "source": [
    "def transition_matrix(l,r):\n",
    "    \"\"\"\n",
    "    this function compute the transition matrix of \n",
    "    an evolutionary two-patch metapopulation\n",
    "    Parameters\n",
    "    ----------\n",
    "    l:  migration probability\n",
    "    \n",
    "    r: fitness\n",
    "    \"\"\"\n",
    "    \n",
    "    T=np.zeros([number_states,number_states])\n",
    "    for i in range(local_size_patch_one+1):\n",
    "        for j in range(local_size_patch_two+1):\n",
    "            total_fitness=r*(i+j)+local_size_patch_one+local_size_patch_two-(i+j)\n",
    "            \n",
    "            first_index=patch_combination.index((i,j))\n",
    "            \n",
    "            if i+1<=local_size_patch_one:\n",
    "                t_iplus=(r*(1-l)*i+r*l*j)*(local_size_patch_one-i)/(local_size_patch_one*total_fitness)\n",
    "                second_index=patch_combination.index((i+1,j))\n",
    "                T[first_index,second_index]=t_iplus\n",
    "                \n",
    "            if i-1>=0:\n",
    "                t_iminus=((1-l)*(local_size_patch_one-i)+l*(local_size_patch_two-j))*i/(local_size_patch_one*total_fitness)\n",
    "                second_index=patch_combination.index((i-1,j))\n",
    "                T[first_index,second_index]=t_iminus\n",
    "                \n",
    "            if j+1<=local_size_patch_two:    \n",
    "                t_jplus=(r*(1-l)*j+r*l*i)*(local_size_patch_two-j)/(local_size_patch_two*total_fitness)\n",
    "                second_index=patch_combination.index((i,j+1))\n",
    "                T[first_index,second_index]=t_jplus\n",
    "                \n",
    "            if j-1>=0:\n",
    "                t_jminus=((1-l)*(local_size_patch_two-j)+l*(local_size_patch_one-i))*j/(local_size_patch_two*total_fitness)\n",
    "                second_index=patch_combination.index((i,j-1))\n",
    "                T[first_index,second_index]=t_jminus\n",
    "        \n",
    "            \n",
    "    for i in range(number_states):\n",
    "        T[i,i]=1-T[i].sum()   \n",
    "    return T "
   ]
  },
  {
   "cell_type": "markdown",
   "metadata": {},
   "source": [
    "$\\phi= (Q-I)^{-1}R$ where $\\phi$ is the absorption probability from any state to one of the absorbing points. \n",
    "$Q$ is the transition matrix between transient states. $I$ is the identity matrix and $R$ represent the probability of transition from any transient states to absorbing states."
   ]
  },
  {
   "cell_type": "code",
   "execution_count": 32,
   "metadata": {},
   "outputs": [],
   "source": [
    "for l in migration_probability:\n",
    "    f=open('two-patch-numerical-N1_'+str(local_size_patch_one)+'-N2_'+str(local_size_patch_two)+'_mig_'+str(l)+'.txt','w')\n",
    "    for r in Fitness:\n",
    "        TM=transition_matrix(l,r)\n",
    " \n",
    "        transient_matrix=TM[1:number_states-1,1:number_states-1]\n",
    "        a=TM[1:number_states-1,0]\n",
    "        b=TM[1:number_states-1,number_states-1]\n",
    "        R=np.concatenate((a, b),axis=0)\n",
    "        R=np.transpose(R.reshape((2,number_states-2)))\n",
    "   \n",
    "        Identity=np.identity(number_states-2)\n",
    "        c=Identity-transient_matrix\n",
    "        inverse=np.linalg.inv(c)\n",
    "    \n",
    "        Probability=np.dot(inverse,R)\n",
    "    \n",
    "        fix_prob=(local_size_patch_two*Probability[0,1]+local_size_patch_one*Probability[local_size_patch_two,1])/(local_size_patch_one+local_size_patch_two)\n",
    "        f.write(str(r)+'\\t'+str(fix_prob)+'\\n')\n",
    "    \n",
    "    f.close()    \n",
    "    "
   ]
  },
  {
   "cell_type": "markdown",
   "metadata": {},
   "source": [
    "**fixation probability of a well-mixed population**"
   ]
  },
  {
   "cell_type": "code",
   "execution_count": 33,
   "metadata": {},
   "outputs": [],
   "source": [
    "def fix_prob_well_mixed(fitness, pop_size):\n",
    "    \"\"\"\n",
    "    fixation probability of a well-mixed population \n",
    "    with size pop_size \n",
    "    \"\"\"\n",
    "    return (1-1/fitness)/(1-(1/fitness)**pop_size)"
   ]
  },
  {
   "cell_type": "markdown",
   "metadata": {},
   "source": [
    "**Fixation probability of a two-patch meta-population in low migration regime**"
   ]
  },
  {
   "cell_type": "code",
   "execution_count": 34,
   "metadata": {},
   "outputs": [],
   "source": [
    "def fix_prob_two_patch(fitness,local_size_patch_one,local_size_patch_two):\n",
    "    \"\"\"\n",
    "    fixation probability of a two-patch meta-population\n",
    "\n",
    "    \"\"\"\n",
    "    return fix_prob_well_mixed(fitness, local_size_patch_one)*fix_prob_well_mixed(fitness, local_size_patch_two)*(local_size_patch_one/(local_size_patch_one+local_size_patch_two) /(fix_prob_well_mixed(fitness, local_size_patch_two)+local_size_patch_two*fix_prob_well_mixed(1/fitness, local_size_patch_one)/(local_size_patch_one*fitness))+local_size_patch_two/(local_size_patch_one+local_size_patch_two)/(fix_prob_well_mixed(fitness, local_size_patch_one)+local_size_patch_one*fix_prob_well_mixed(1/fitness, local_size_patch_two)/(local_size_patch_two*fitness)))"
   ]
  },
  {
   "cell_type": "markdown",
   "metadata": {},
   "source": [
    "**Fixation probability of a two-patch meta-population when migration probability is 1:**"
   ]
  },
  {
   "cell_type": "code",
   "execution_count": 35,
   "metadata": {},
   "outputs": [],
   "source": [
    "def h2(fitness,pop_size_1,pop_size_2):\n",
    "    return (pop_size_1/pop_size_2+1/fitness)/(pop_size_1/pop_size_2+fitness)\n",
    "\n",
    "def h1(fitness,pop_size_1,pop_size_2):\n",
    "    return (pop_size_2/pop_size_1+1/fitness)/(pop_size_2/pop_size_1+fitness)\n",
    "\n",
    "def phi1(fitness,pop_size_1,pop_size_2):\n",
    "    return (h1(fitness, pop_size_1, pop_size_2)-1)/((h1(fitness, pop_size_1, pop_size_2))**pop_size_1*(h2(fitness, pop_size_1, pop_size_2))**pop_size_2-1)\n",
    "\n",
    "\n",
    "def phi2(fitness,pop_size_1,pop_size_2):\n",
    "    return (h2(fitness, pop_size_1, pop_size_2)-1)/((h1(fitness, pop_size_1, pop_size_2))**pop_size_1*(h2(fitness, pop_size_1, pop_size_2))**pop_size_2-1)\n",
    "\n",
    "def phi (fitness,pop_size_1, pop_size_2):\n",
    "    return (pop_size_1* phi1(fitness,pop_size_1,pop_size_2)+pop_size_2* phi2(fitness,pop_size_1,pop_size_2))/(pop_size_1+pop_size_2)"
   ]
  },
  {
   "cell_type": "markdown",
   "metadata": {},
   "source": [
    "**Import numerical data for different migration probabilities**"
   ]
  },
  {
   "cell_type": "code",
   "execution_count": 36,
   "metadata": {},
   "outputs": [],
   "source": [
    "numerical_fix_prob_10e_6=np.loadtxt('two-patch-numerical-N1_7-N2_3_mig_1e-06.txt')\n",
    "numerical_fix_prob_10e_2=np.loadtxt('two-patch-numerical-N1_7-N2_3_mig_0.01.txt')\n",
    "numerical_fix_prob_01=np.loadtxt('two-patch-numerical-N1_7-N2_3_mig_0.1.txt')\n",
    "numerical_fix_prob_05=np.loadtxt('two-patch-numerical-N1_7-N2_3_mig_0.5.txt')\n",
    "numerical_fix_prob_1=np.loadtxt('two-patch-numerical-N1_7-N2_3_mig_1.txt')"
   ]
  },
  {
   "cell_type": "markdown",
   "metadata": {},
   "source": [
    "**Plotting**"
   ]
  },
  {
   "cell_type": "code",
   "execution_count": 37,
   "metadata": {},
   "outputs": [
    {
     "data": {
      "image/png": "[encoded data removed]",
      "text/plain": [
       "<Figure size 720x504 with 1 Axes>"
      ]
     },
     "metadata": {
      "needs_background": "light"
     },
     "output_type": "display_data"
    }
   ],
   "source": [
    "\n",
    "fig, ax = plt.subplots(figsize=(10,7))\n",
    "ax.xaxis.set_major_locator(MultipleLocator(0.5))\n",
    "ax.xaxis.set_minor_locator(MultipleLocator(0.25))\n",
    "ax.ticklabel_format(axis='y',style='sci',scilimits=(0,0))\n",
    "#ylim=np.array(plt.gca().get_ylim())\n",
    "ylim=[-0.04,0.04]\n",
    "plt.xlim(left=0)\n",
    "plt.xlim(right=2)\n",
    "plt.ylim(top=ylim[1])\n",
    "plt.ylim(bottom=ylim[0])\n",
    "plt.fill_between(np.linspace(0,1,20),y1=0,y2=ylim[1], color='whitesmoke')\n",
    "plt.fill_between(np.linspace(1.,2,20),y1=ylim[0],y2=0, color='whitesmoke')\n",
    "ax.axhline(y=0, color='k')\n",
    "ax.plot(Fitness1, fix_prob_two_patch(Fitness1,local_size_patch_one,local_size_patch_two)- fix_prob_well_mixed(Fitness1,local_size_patch_one+local_size_patch_two ) , color='g',label='low-migration')\n",
    "ax.plot(Fitness,numerical_fix_prob_10e_6[:,1]- fix_prob_well_mixed(Fitness, local_size_patch_one+local_size_patch_two), 'P',color='tab:orange',markerfacecolor='none',label='$\\lambda=10^{-6}$')\n",
    "ax.plot(Fitness, numerical_fix_prob_10e_2[:,1]- fix_prob_well_mixed(Fitness, local_size_patch_one+local_size_patch_two),'s',color='b',markerfacecolor='none',label='$\\lambda=0.01$')\n",
    "ax.plot(Fitness, numerical_fix_prob_01[:,1]- fix_prob_well_mixed(Fitness, local_size_patch_one+local_size_patch_two),'*',color='m',markerfacecolor='none',label='$\\lambda=0.1$')\n",
    "ax.plot(Fitness, numerical_fix_prob_05[:,1]- fix_prob_well_mixed(Fitness, local_size_patch_one+local_size_patch_two),'v',color='c',markerfacecolor='none',label='$\\lambda=0.5$')\n",
    "ax.plot(Fitness, numerical_fix_prob_1[:,1]- fix_prob_well_mixed(Fitness, local_size_patch_one+local_size_patch_two),'o',color='darkred',markerfacecolor='none',label='$\\lambda=1$')\n",
    "ax.plot(Fitness1, phi(Fitness1,local_size_patch_one,local_size_patch_two)-fix_prob_well_mixed(Fitness1, local_size_patch_one+local_size_patch_two), color='r', label='$\\lambda= 1$')\n",
    "plt.legend(fontsize=12)\n",
    "ax.tick_params(labelsize=12, direction='out',top=True, right=True)\n",
    "ax.set_xlabel(r'fitness ($\\bf{r}$) ',fontsize=14)\n",
    "ax.set_ylabel(r\"Difference in fixation probabilities, $\\phi_{\\bullet\\!\\!-\\!\\!\\bullet}- \\phi_{\\rm wm} $\",fontsize=14)\n",
    "\n",
    "plt.legend(fontsize=12)\n",
    "plt.show()"
   ]
  },
  {
   "cell_type": "code",
   "execution_count": null,
   "metadata": {},
   "outputs": [],
   "source": []
  }
 ],
 "metadata": {
  "kernelspec": {
   "display_name": "Python 3",
   "language": "python",
   "name": "python3"
  },
  "language_info": {
   "codemirror_mode": {
    "name": "ipython",
    "version": 3
   },
   "file_extension": ".py",
   "mimetype": "text/x-python",
   "name": "python",
   "nbconvert_exporter": "python",
   "pygments_lexer": "ipython3",
   "version": "3.7.6"
  }
 },
 "nbformat": 4,
 "nbformat_minor": 4
}
